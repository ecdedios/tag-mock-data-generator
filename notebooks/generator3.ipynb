{
 "cells": [
  {
   "cell_type": "code",
   "execution_count": 1,
   "id": "satellite-leather",
   "metadata": {},
   "outputs": [],
   "source": [
    "import random as rand\n",
    "import pandas as pd"
   ]
  },
  {
   "cell_type": "code",
   "execution_count": 2,
   "id": "facial-syria",
   "metadata": {},
   "outputs": [],
   "source": [
    "df = pd.DataFrame([['job_333', 'main_0', 'sub_0', 'deep_0'], ['job_777', 'main_0', 'sub_0', 'deep_0']], columns=['JOB','L1','L2','L3'])"
   ]
  },
  {
   "cell_type": "code",
   "execution_count": 3,
   "id": "frozen-republic",
   "metadata": {},
   "outputs": [],
   "source": [
    "for i in range(0,10):\n",
    "    for j in range(0,20):\n",
    "        for k in range(0,50):\n",
    "            c = rand.randint(1,9)\n",
    "            for x in range(c):\n",
    "                dfx = pd.DataFrame([\n",
    "                                   ['case_' + str(rand.randint(0,777)), 'main_' + str(i), 'sub_' + str(i) + '_' + str(j), 'deep_' + str(i) + '_' + str(j) + '_' + str(k)],\n",
    "                                   ['case_' + str(rand.randint(0,777)), 'main_' + str(i), 'sub_' + str(i) + '_' + str(j), 'deep_' + str(i) + '_' + str(j) + '_' + str(k)]\n",
    "                                   ], columns=['JOB','L1','L2','L3'])\n",
    "                df = df.append(dfx)"
   ]
  },
  {
   "cell_type": "code",
   "execution_count": 4,
   "id": "secure-violence",
   "metadata": {},
   "outputs": [
    {
     "data": {
      "text/plain": [
       "(100002, 4)"
      ]
     },
     "execution_count": 4,
     "metadata": {},
     "output_type": "execute_result"
    }
   ],
   "source": [
    "df.shape"
   ]
  },
  {
   "cell_type": "code",
   "execution_count": 6,
   "id": "abstract-opposition",
   "metadata": {},
   "outputs": [],
   "source": [
    "df.to_csv('../data/out/output3.csv', index=False)"
   ]
  },
  {
   "cell_type": "code",
   "execution_count": 7,
   "id": "potential-defense",
   "metadata": {},
   "outputs": [
    {
     "data": {
      "text/html": [
       "<div>\n",
       "<style scoped>\n",
       "    .dataframe tbody tr th:only-of-type {\n",
       "        vertical-align: middle;\n",
       "    }\n",
       "\n",
       "    .dataframe tbody tr th {\n",
       "        vertical-align: top;\n",
       "    }\n",
       "\n",
       "    .dataframe thead th {\n",
       "        text-align: right;\n",
       "    }\n",
       "</style>\n",
       "<table border=\"1\" class=\"dataframe\">\n",
       "  <thead>\n",
       "    <tr style=\"text-align: right;\">\n",
       "      <th></th>\n",
       "      <th>JOB</th>\n",
       "      <th>L1</th>\n",
       "      <th>L2</th>\n",
       "      <th>L3</th>\n",
       "    </tr>\n",
       "  </thead>\n",
       "  <tbody>\n",
       "    <tr>\n",
       "      <th>0</th>\n",
       "      <td>job_333</td>\n",
       "      <td>main_0</td>\n",
       "      <td>sub_0</td>\n",
       "      <td>deep_0</td>\n",
       "    </tr>\n",
       "    <tr>\n",
       "      <th>1</th>\n",
       "      <td>job_777</td>\n",
       "      <td>main_0</td>\n",
       "      <td>sub_0</td>\n",
       "      <td>deep_0</td>\n",
       "    </tr>\n",
       "    <tr>\n",
       "      <th>0</th>\n",
       "      <td>case_207</td>\n",
       "      <td>main_0</td>\n",
       "      <td>sub_0_0</td>\n",
       "      <td>deep_0_0_0</td>\n",
       "    </tr>\n",
       "    <tr>\n",
       "      <th>1</th>\n",
       "      <td>case_728</td>\n",
       "      <td>main_0</td>\n",
       "      <td>sub_0_0</td>\n",
       "      <td>deep_0_0_0</td>\n",
       "    </tr>\n",
       "    <tr>\n",
       "      <th>0</th>\n",
       "      <td>case_195</td>\n",
       "      <td>main_0</td>\n",
       "      <td>sub_0_0</td>\n",
       "      <td>deep_0_0_0</td>\n",
       "    </tr>\n",
       "  </tbody>\n",
       "</table>\n",
       "</div>"
      ],
      "text/plain": [
       "        JOB      L1       L2          L3\n",
       "0   job_333  main_0    sub_0      deep_0\n",
       "1   job_777  main_0    sub_0      deep_0\n",
       "0  case_207  main_0  sub_0_0  deep_0_0_0\n",
       "1  case_728  main_0  sub_0_0  deep_0_0_0\n",
       "0  case_195  main_0  sub_0_0  deep_0_0_0"
      ]
     },
     "execution_count": 7,
     "metadata": {},
     "output_type": "execute_result"
    }
   ],
   "source": [
    "df.head()"
   ]
  },
  {
   "cell_type": "code",
   "execution_count": 8,
   "id": "hourly-secret",
   "metadata": {},
   "outputs": [
    {
     "data": {
      "text/plain": [
       "(100002, 4)"
      ]
     },
     "execution_count": 8,
     "metadata": {},
     "output_type": "execute_result"
    }
   ],
   "source": [
    "df.shape"
   ]
  },
  {
   "cell_type": "code",
   "execution_count": null,
   "id": "armed-wallpaper",
   "metadata": {},
   "outputs": [],
   "source": []
  }
 ],
 "metadata": {
  "kernelspec": {
   "display_name": "Python 3",
   "language": "python",
   "name": "python3"
  },
  "language_info": {
   "codemirror_mode": {
    "name": "ipython",
    "version": 3
   },
   "file_extension": ".py",
   "mimetype": "text/x-python",
   "name": "python",
   "nbconvert_exporter": "python",
   "pygments_lexer": "ipython3",
   "version": "3.7.9"
  }
 },
 "nbformat": 4,
 "nbformat_minor": 5
}
