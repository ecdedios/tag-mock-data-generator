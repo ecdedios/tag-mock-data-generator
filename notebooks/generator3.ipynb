{
 "cells": [
  {
   "cell_type": "code",
   "execution_count": 1,
   "id": "satellite-leather",
   "metadata": {},
   "outputs": [],
   "source": [
    "import random as rand\n",
    "import pandas as pd"
   ]
  },
  {
   "cell_type": "code",
   "execution_count": 2,
   "id": "facial-syria",
   "metadata": {},
   "outputs": [],
   "source": [
    "df = pd.DataFrame([['case_333', 'main_0', 'sub_0', 'deep_0'], ['case_777', 'main_0', 'sub_0', 'deep_0']], columns=['TICKET','MAIN','SUB','DEEP'])"
   ]
  },
  {
   "cell_type": "code",
   "execution_count": 3,
   "id": "frozen-republic",
   "metadata": {},
   "outputs": [],
   "source": [
    "for i in range(0,10):\n",
    "    for j in range(0,20):\n",
    "        for k in range(0,50):\n",
    "            c = rand.randint(1,9)\n",
    "            for x in range(c):\n",
    "                dfx = pd.DataFrame([\n",
    "                                   ['case_' + str(rand.randint(0,777)), 'main_' + str(i), 'sub_' + str(j), 'deep_' + str(k)],\n",
    "                                   ['case_' + str(rand.randint(0,777)), 'main_' + str(i), 'sub_' + str(j), 'deep_' + str(k)]\n",
    "                                   ], columns=['TICKET','MAIN','SUB','DEEP'])\n",
    "                df = df.append(dfx)"
   ]
  },
  {
   "cell_type": "code",
   "execution_count": 4,
   "id": "secure-violence",
   "metadata": {},
   "outputs": [
    {
     "data": {
      "text/plain": [
       "(100226, 4)"
      ]
     },
     "execution_count": 4,
     "metadata": {},
     "output_type": "execute_result"
    }
   ],
   "source": [
    "df.shape"
   ]
  },
  {
   "cell_type": "code",
   "execution_count": 5,
   "id": "abstract-opposition",
   "metadata": {},
   "outputs": [],
   "source": [
    "df.to_csv('../data/out/output3.csv', index=False)"
   ]
  },
  {
   "cell_type": "code",
   "execution_count": null,
   "id": "potential-defense",
   "metadata": {},
   "outputs": [],
   "source": []
  }
 ],
 "metadata": {
  "kernelspec": {
   "display_name": "Python 3",
   "language": "python",
   "name": "python3"
  },
  "language_info": {
   "codemirror_mode": {
    "name": "ipython",
    "version": 3
   },
   "file_extension": ".py",
   "mimetype": "text/x-python",
   "name": "python",
   "nbconvert_exporter": "python",
   "pygments_lexer": "ipython3",
   "version": "3.7.9"
  }
 },
 "nbformat": 4,
 "nbformat_minor": 5
}
