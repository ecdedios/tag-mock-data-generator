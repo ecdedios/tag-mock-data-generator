{
 "cells": [
  {
   "cell_type": "code",
   "execution_count": 1,
   "id": "affected-accident",
   "metadata": {},
   "outputs": [],
   "source": [
    "# for manipulating dataframes\n",
    "import pandas as pd\n",
    "\n",
    "# for visualizations\n",
    "%matplotlib inline\n",
    "import matplotlib.pyplot as plt\n",
    "import seaborn as sns\n",
    "sns.set(style=\"whitegrid\")\n",
    "\n",
    "# to print out all the outputs\n",
    "from IPython.core.interactiveshell import InteractiveShell\n",
    "InteractiveShell.ast_node_interactivity = \"all\"\n",
    "\n",
    "# set display options\n",
    "pd.set_option('display.max_columns', None)\n",
    "pd.set_option('display.max_rows', None)\n",
    "pd.set_option('display.max_colwidth', None)"
   ]
  },
  {
   "cell_type": "code",
   "execution_count": 2,
   "id": "accepting-weekend",
   "metadata": {},
   "outputs": [],
   "source": [
    "df = pd.read_csv('../data/out/output3.csv')"
   ]
  },
  {
   "cell_type": "code",
   "execution_count": 25,
   "id": "sporting-excitement",
   "metadata": {},
   "outputs": [],
   "source": [
    "df = df.iloc[2:]"
   ]
  },
  {
   "cell_type": "code",
   "execution_count": 26,
   "id": "invisible-taste",
   "metadata": {},
   "outputs": [
    {
     "data": {
      "text/html": [
       "<div>\n",
       "<style scoped>\n",
       "    .dataframe tbody tr th:only-of-type {\n",
       "        vertical-align: middle;\n",
       "    }\n",
       "\n",
       "    .dataframe tbody tr th {\n",
       "        vertical-align: top;\n",
       "    }\n",
       "\n",
       "    .dataframe thead th {\n",
       "        text-align: right;\n",
       "    }\n",
       "</style>\n",
       "<table border=\"1\" class=\"dataframe\">\n",
       "  <thead>\n",
       "    <tr style=\"text-align: right;\">\n",
       "      <th></th>\n",
       "      <th>JOB</th>\n",
       "      <th>L1</th>\n",
       "      <th>L2</th>\n",
       "      <th>L3</th>\n",
       "    </tr>\n",
       "  </thead>\n",
       "  <tbody>\n",
       "    <tr>\n",
       "      <th>2</th>\n",
       "      <td>case_207</td>\n",
       "      <td>main_0</td>\n",
       "      <td>sub_0_0</td>\n",
       "      <td>deep_0_0_0</td>\n",
       "    </tr>\n",
       "    <tr>\n",
       "      <th>3</th>\n",
       "      <td>case_728</td>\n",
       "      <td>main_0</td>\n",
       "      <td>sub_0_0</td>\n",
       "      <td>deep_0_0_0</td>\n",
       "    </tr>\n",
       "    <tr>\n",
       "      <th>4</th>\n",
       "      <td>case_195</td>\n",
       "      <td>main_0</td>\n",
       "      <td>sub_0_0</td>\n",
       "      <td>deep_0_0_0</td>\n",
       "    </tr>\n",
       "    <tr>\n",
       "      <th>5</th>\n",
       "      <td>case_114</td>\n",
       "      <td>main_0</td>\n",
       "      <td>sub_0_0</td>\n",
       "      <td>deep_0_0_0</td>\n",
       "    </tr>\n",
       "    <tr>\n",
       "      <th>6</th>\n",
       "      <td>case_615</td>\n",
       "      <td>main_0</td>\n",
       "      <td>sub_0_0</td>\n",
       "      <td>deep_0_0_0</td>\n",
       "    </tr>\n",
       "  </tbody>\n",
       "</table>\n",
       "</div>"
      ],
      "text/plain": [
       "        JOB      L1       L2          L3\n",
       "2  case_207  main_0  sub_0_0  deep_0_0_0\n",
       "3  case_728  main_0  sub_0_0  deep_0_0_0\n",
       "4  case_195  main_0  sub_0_0  deep_0_0_0\n",
       "5  case_114  main_0  sub_0_0  deep_0_0_0\n",
       "6  case_615  main_0  sub_0_0  deep_0_0_0"
      ]
     },
     "execution_count": 26,
     "metadata": {},
     "output_type": "execute_result"
    }
   ],
   "source": [
    "df.head()"
   ]
  },
  {
   "cell_type": "code",
   "execution_count": null,
   "id": "twelve-michigan",
   "metadata": {},
   "outputs": [],
   "source": []
  }
 ],
 "metadata": {
  "kernelspec": {
   "display_name": "Python 3",
   "language": "python",
   "name": "python3"
  },
  "language_info": {
   "codemirror_mode": {
    "name": "ipython",
    "version": 3
   },
   "file_extension": ".py",
   "mimetype": "text/x-python",
   "name": "python",
   "nbconvert_exporter": "python",
   "pygments_lexer": "ipython3",
   "version": "3.7.9"
  }
 },
 "nbformat": 4,
 "nbformat_minor": 5
}
