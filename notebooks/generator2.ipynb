{
 "cells": [
  {
   "cell_type": "code",
   "execution_count": 1,
   "id": "still-utilization",
   "metadata": {},
   "outputs": [],
   "source": [
    "import random as rand\n",
    "import pandas as pd"
   ]
  },
  {
   "cell_type": "code",
   "execution_count": 2,
   "id": "altered-aggregate",
   "metadata": {},
   "outputs": [],
   "source": [
    "df = pd.DataFrame([['case_333', 'main_0', 'sub_0', 'deep_0'], ['case_777', 'main_0', 'sub_0', 'deep_0']], columns=['TICKET','MAIN','SUB','DEEP'])"
   ]
  },
  {
   "cell_type": "code",
   "execution_count": 3,
   "id": "lesbian-ownership",
   "metadata": {},
   "outputs": [],
   "source": [
    "for i in range(0,10):\n",
    "    for j in range(0,20):\n",
    "        for k in range(0,30):\n",
    "            c = rand.randint(1,9)\n",
    "            for x in range(c):\n",
    "                dfx = pd.DataFrame([\n",
    "                                   ['case_' + str(rand.randint(0,777)), 'main_' + str(i), 'sub_' + str(j), 'deep_' + str(k)],\n",
    "                                   ['case_' + str(rand.randint(0,777)), 'main_' + str(i), 'sub_' + str(j), 'deep_' + str(k)]\n",
    "                                   ], columns=['TICKET','MAIN','SUB','DEEP'])\n",
    "                df = df.append(dfx)"
   ]
  },
  {
   "cell_type": "code",
   "execution_count": 4,
   "id": "comfortable-copyright",
   "metadata": {},
   "outputs": [
    {
     "data": {
      "text/plain": [
       "(59920, 4)"
      ]
     },
     "execution_count": 4,
     "metadata": {},
     "output_type": "execute_result"
    }
   ],
   "source": [
    "df.shape"
   ]
  },
  {
   "cell_type": "code",
   "execution_count": 5,
   "id": "helpful-relaxation",
   "metadata": {},
   "outputs": [],
   "source": [
    "df.to_csv('../data/out/output2.csv', index=False)"
   ]
  },
  {
   "cell_type": "code",
   "execution_count": null,
   "id": "second-chemistry",
   "metadata": {},
   "outputs": [],
   "source": []
  }
 ],
 "metadata": {
  "kernelspec": {
   "display_name": "Python 3",
   "language": "python",
   "name": "python3"
  },
  "language_info": {
   "codemirror_mode": {
    "name": "ipython",
    "version": 3
   },
   "file_extension": ".py",
   "mimetype": "text/x-python",
   "name": "python",
   "nbconvert_exporter": "python",
   "pygments_lexer": "ipython3",
   "version": "3.7.9"
  }
 },
 "nbformat": 4,
 "nbformat_minor": 5
}
