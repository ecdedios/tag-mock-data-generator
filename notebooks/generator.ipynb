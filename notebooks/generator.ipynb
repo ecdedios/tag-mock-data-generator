{
 "cells": [
  {
   "cell_type": "code",
   "execution_count": null,
   "id": "returning-wells",
   "metadata": {},
   "outputs": [],
   "source": [
    "import random as rand\n",
    "import pandas as pd"
   ]
  },
  {
   "cell_type": "code",
   "execution_count": null,
   "id": "activated-blond",
   "metadata": {},
   "outputs": [],
   "source": [
    "df = pd.DataFrame([['case_3333', 'main_0', 'sub_0', 'deep_0'], ['case_7777', 'main_0', 'sub_0', 'deep_0']], columns=['TICKET','MAIN','SUB','DEEP'])"
   ]
  },
  {
   "cell_type": "code",
   "execution_count": null,
   "id": "threaded-skating",
   "metadata": {},
   "outputs": [],
   "source": [
    "for i in range(0,123):\n",
    "    for j in range(0,672):\n",
    "        for k in range(0,3):\n",
    "            c = rand.randint(1,2395)\n",
    "            for x in range(c):\n",
    "                dfx = pd.DataFrame([\n",
    "                                   ['case_' + str(rand.randint(0,77777)), 'main_' + str(i), 'sub_' + str(j), 'deep_' + str(k)],\n",
    "                                   ['case_' + str(rand.randint(0,77777)), 'main_' + str(i), 'sub_' + str(j), 'deep_' + str(k)]\n",
    "                                   ], columns=['TICKET','MAIN','SUB','DEEP'])\n",
    "                df = df.append(dfx)"
   ]
  },
  {
   "cell_type": "code",
   "execution_count": null,
   "id": "stable-reset",
   "metadata": {},
   "outputs": [],
   "source": [
    "df.shape"
   ]
  },
  {
   "cell_type": "code",
   "execution_count": null,
   "id": "adjacent-science",
   "metadata": {},
   "outputs": [],
   "source": [
    "df.to_csv('../data/out/output.csv', index=False)"
   ]
  },
  {
   "cell_type": "code",
   "execution_count": null,
   "id": "clinical-trouble",
   "metadata": {},
   "outputs": [],
   "source": []
  }
 ],
 "metadata": {
  "kernelspec": {
   "display_name": "Python 3",
   "language": "python",
   "name": "python3"
  },
  "language_info": {
   "codemirror_mode": {
    "name": "ipython",
    "version": 3
   },
   "file_extension": ".py",
   "mimetype": "text/x-python",
   "name": "python",
   "nbconvert_exporter": "python",
   "pygments_lexer": "ipython3",
   "version": "3.7.9"
  }
 },
 "nbformat": 4,
 "nbformat_minor": 5
}
